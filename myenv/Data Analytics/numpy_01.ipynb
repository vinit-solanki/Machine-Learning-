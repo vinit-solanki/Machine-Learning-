{
 "cells": [
  {
   "cell_type": "code",
   "execution_count": 3,
   "id": "f996cf6f-513c-4dd8-b9e1-ccd6b8ac146b",
   "metadata": {},
   "outputs": [
    {
     "name": "stdout",
     "output_type": "stream",
     "text": [
      "Hello\n"
     ]
    }
   ],
   "source": [
    "print(\"Hello\")"
   ]
  },
  {
   "cell_type": "code",
   "execution_count": 4,
   "id": "449b3708",
   "metadata": {},
   "outputs": [
    {
     "name": "stdout",
     "output_type": "stream",
     "text": [
      "[1 2 3 4 5]\n",
      "<class 'numpy.ndarray'>\n",
      "(5,)\n"
     ]
    }
   ],
   "source": [
    "import numpy as np\n",
    "\n",
    "# creating an 1d array\n",
    "arr1 = np.array([1,2,3,4,5])\n",
    "print(arr1)\n",
    "print(type(arr1))\n",
    "print(arr1.shape)"
   ]
  },
  {
   "cell_type": "code",
   "execution_count": 5,
   "id": "aad7c8df",
   "metadata": {},
   "outputs": [
    {
     "name": "stdout",
     "output_type": "stream",
     "text": [
      "[[1 2 3 4 5]]\n",
      "(2, 5) [[ 1  2  3  4  5]\n",
      " [ 6  7  8  9 10]]\n"
     ]
    }
   ],
   "source": [
    "#  reshaping the 1d array\n",
    "arr2 = arr1.reshape(1,5)\n",
    "print(arr2)\n",
    "# 2d and 3d arrays\n",
    "arr3 = np.array([arr1, [6,7,8,9,10]])\n",
    "print(arr3.shape, arr3)"
   ]
  },
  {
   "cell_type": "code",
   "execution_count": 6,
   "id": "09cc0e6b",
   "metadata": {},
   "outputs": [
    {
     "data": {
      "text/plain": [
       "array([[1., 1., 1., 1., 1., 1., 1., 1., 1., 1.]])"
      ]
     },
     "execution_count": 6,
     "metadata": {},
     "output_type": "execute_result"
    }
   ],
   "source": [
    "# arrange function\n",
    "# np.arange(0,10,4)\n",
    "# np.arange(0,10,2).reshape(5,1)\n",
    "# identity matrix\n",
    "# np.eye(2)\n",
    "# fill ones\n",
    "np.ones((1,10))"
   ]
  },
  {
   "cell_type": "code",
   "execution_count": 7,
   "id": "2cd4236e",
   "metadata": {},
   "outputs": [
    {
     "name": "stdout",
     "output_type": "stream",
     "text": [
      "Array:  [[1 2 3]\n",
      " [4 5 6]]\n",
      "Shape:  (2, 3)\n",
      "Number of dimensions:  2\n",
      "Size of arr:  6\n",
      "Data type:  int64\n",
      "Item size(in bytes):  8\n"
     ]
    }
   ],
   "source": [
    "arr = np.array([[1,2,3],[4,5,6]])\n",
    "print(\"Array: \", arr)\n",
    "print(\"Shape: \", arr.shape)\n",
    "print(\"Number of dimensions: \", arr.ndim)\n",
    "print(\"Size of arr: \", arr.size)\n",
    "print(\"Data type: \", arr.dtype)\n",
    "print(\"Item size(in bytes): \", arr.itemsize)"
   ]
  },
  {
   "cell_type": "code",
   "execution_count": 13,
   "id": "f41714d1",
   "metadata": {},
   "outputs": [
    {
     "name": "stdout",
     "output_type": "stream",
     "text": [
      "Addition:  [11 22 33 44]\n",
      "Substraction: [ -9 -18 -27 -36]\n",
      "Multiplication: [ 10  40  90 160]\n",
      "Division: [0.1 0.1 0.1 0.1]\n",
      "Dot Product:\n",
      "300\n"
     ]
    }
   ],
   "source": [
    "# Verctorized Operations\n",
    "arr1 = np.array([1,2,3,4])\n",
    "arr2 = np.array([10,20,30,40])\n",
    "# arr2 = np.array([10,20,30,40,50]) => this will give an error\n",
    "\n",
    "# Element wise addition\n",
    "print(\"Addition: \", arr1+arr2)\n",
    "print(\"Substraction:\", arr1-arr2)\n",
    "print(\"Multiplication:\", arr1*arr2)\n",
    "print(\"Division:\", arr1/arr2)\n",
    "\n",
    "# Dot Product\n",
    "print(\"Dot Product:\")\n",
    "print(np.dot(arr1,arr2))"
   ]
  },
  {
   "cell_type": "code",
   "execution_count": 9,
   "id": "d4fe29fe",
   "metadata": {},
   "outputs": [
    {
     "name": "stdout",
     "output_type": "stream",
     "text": [
      "Sq. root:  [1.         1.41421356 1.73205081 2.         2.23606798]\n",
      "Exponential:  [  2.71828183   7.3890561   20.08553692  54.59815003 148.4131591 ]\n",
      "Sine:  [ 0.84147098  0.90929743  0.14112001 -0.7568025  -0.95892427]\n",
      "Log:  [0.         0.69314718 1.09861229 1.38629436 1.60943791]\n"
     ]
    }
   ],
   "source": [
    "arr = np.array([1,2,3,4,5])\n",
    "print(\"Sq. root: \", np.sqrt(arr))\n",
    "print(\"Exponential: \", np.exp(arr))\n",
    "print(\"Sine: \", np.sin(arr))\n",
    "print(\"Log: \", np.log(arr))"
   ]
  },
  {
   "cell_type": "code",
   "execution_count": 10,
   "id": "61277e3d",
   "metadata": {},
   "outputs": [
    {
     "name": "stdout",
     "output_type": "stream",
     "text": [
      "\n",
      " [[2 3]\n",
      " [5 6]]\n",
      "\n",
      " [[2 3]\n",
      " [5 6]\n",
      " [8 9]]\n",
      "[[4 5 6]\n",
      " [7 8 9]]\n",
      "[[1 4 7]\n",
      " [2 5 8]\n",
      " [3 6 9]]\n"
     ]
    }
   ],
   "source": [
    "#  array slicing and indexing\n",
    "# arr = np.array([[[1],[2],[3]],[[4],[5],[6]]])\n",
    "arr = np.array([[1,2,3],[4,5,6],[7,8,9]])\n",
    "# print(\"Array: \",arr)\n",
    "print(\"\\n\", arr[0:2,1:])\n",
    "print(\"\\n\", arr[0:,1:])\n",
    "print(arr[1:])\n",
    "print(arr.T)\n"
   ]
  },
  {
   "cell_type": "code",
   "execution_count": 11,
   "id": "37a6e2f0",
   "metadata": {},
   "outputs": [
    {
     "name": "stdout",
     "output_type": "stream",
     "text": [
      "Mean:  95.8\n",
      "Std. Devi.:  125.75118289702088\n",
      "Var:  15813.359999999997\n",
      "Normalized Data:  [-0.68229974 -0.30059359  1.9816911  -0.59482542 -0.40397234]\n"
     ]
    }
   ],
   "source": [
    "#  statistical concept: Normalization \n",
    "#  mean = 0 and std. devi = 1\n",
    "data = np.array([10,58,345,21,45])\n",
    "mean = np.mean(data)\n",
    "std_dev = np.std(data)\n",
    "noramlized_data = (data - mean)/std_dev\n",
    "print(\"Mean: \",mean)\n",
    "print(\"Std. Devi.: \", std_dev)\n",
    "print(\"Var: \", np.var(data))\n",
    "print(\"Normalized Data: \", noramlized_data)"
   ]
  },
  {
   "cell_type": "code",
   "execution_count": 12,
   "id": "957d310d",
   "metadata": {},
   "outputs": [
    {
     "name": "stdout",
     "output_type": "stream",
     "text": [
      "[False False False False False False  True  True  True]\n",
      "[7 8 9]\n"
     ]
    }
   ],
   "source": [
    "# Logical operations\n",
    "data = np.array([1,2,3,4,5,6,7,8,9])\n",
    "print(data>6)\n",
    "print(data[data>6])"
   ]
  },
  {
   "cell_type": "code",
   "execution_count": null,
   "id": "ff18d20c",
   "metadata": {},
   "outputs": [],
   "source": []
  }
 ],
 "metadata": {
  "kernelspec": {
   "display_name": "myenv",
   "language": "python",
   "name": "python3"
  },
  "language_info": {
   "codemirror_mode": {
    "name": "ipython",
    "version": 3
   },
   "file_extension": ".py",
   "mimetype": "text/x-python",
   "name": "python",
   "nbconvert_exporter": "python",
   "pygments_lexer": "ipython3",
   "version": "3.12.3"
  }
 },
 "nbformat": 4,
 "nbformat_minor": 5
}
