{
 "cells": [
  {
   "cell_type": "code",
   "execution_count": 1,
   "id": "486c2e13-e026-4c83-aac8-54f624b2347c",
   "metadata": {},
   "outputs": [],
   "source": [
    "import pandas as pd\n",
    "import numpy as np"
   ]
  },
  {
   "cell_type": "code",
   "execution_count": 2,
   "id": "d384e943",
   "metadata": {},
   "outputs": [],
   "source": [
    "from sklearn.datasets import make_classification\n",
    "\n",
    "X, y = make_classification(n_samples=1000, n_features= 10, n_informative=3, n_classes= 3, random_state=42)"
   ]
  },
  {
   "cell_type": "code",
   "execution_count": 3,
   "id": "c46672ad",
   "metadata": {},
   "outputs": [
    {
     "data": {
      "text/plain": [
       "array([[ 0.7715326 , -1.47433614,  2.19664605, ...,  0.68174341,\n",
       "         1.08996189,  0.96250289],\n",
       "       [ 1.85838284, -3.68087983,  0.22749588, ..., -0.47417818,\n",
       "         1.34113888, -0.77177196],\n",
       "       [-0.98724764,  1.53916836,  0.5859042 , ..., -0.32202815,\n",
       "        -1.45103394,  1.32543211],\n",
       "       ...,\n",
       "       [-1.227082  ,  1.65602784,  0.47263035, ..., -0.8634936 ,\n",
       "        -1.83932326, -0.03120349],\n",
       "       [ 1.28527572, -0.29715202, -0.67172079, ..., -1.31544131,\n",
       "         2.85446468,  1.3094441 ],\n",
       "       [-0.75428048,  0.88516075, -1.6728939 , ..., -2.0362205 ,\n",
       "        -1.43989584,  0.04749347]], shape=(1000, 10))"
      ]
     },
     "execution_count": 3,
     "metadata": {},
     "output_type": "execute_result"
    }
   ],
   "source": [
    "X"
   ]
  },
  {
   "cell_type": "code",
   "execution_count": 4,
   "id": "fc0a4704",
   "metadata": {},
   "outputs": [
    {
     "data": {
      "text/plain": [
       "array([1, 2, 1, 1, 2, 1, 1, 0, 2, 2, 2, 0, 1, 0, 2, 1, 2, 1, 0, 1, 1, 1,\n",
       "       2, 2, 1, 2, 2, 0, 1, 2, 0, 1, 0, 2, 0, 1, 0, 0, 2, 0, 1, 0, 2, 1,\n",
       "       2, 0, 2, 0, 2, 0, 0, 0, 2, 1, 1, 1, 1, 2, 0, 0, 2, 1, 0, 0, 1, 2,\n",
       "       0, 2, 2, 1, 0, 1, 1, 1, 2, 2, 2, 1, 2, 2, 2, 2, 2, 2, 0, 0, 0, 0,\n",
       "       0, 1, 1, 2, 1, 0, 1, 2, 0, 2, 0, 0, 2, 1, 0, 2, 0, 2, 2, 0, 2, 0,\n",
       "       0, 0, 0, 2, 1, 2, 1, 0, 2, 0, 0, 2, 1, 0, 2, 1, 0, 0, 2, 2, 0, 0,\n",
       "       0, 2, 1, 2, 2, 0, 2, 0, 1, 2, 1, 2, 1, 1, 2, 0, 0, 1, 0, 2, 0, 0,\n",
       "       0, 1, 1, 2, 1, 2, 2, 0, 0, 0, 1, 1, 0, 2, 1, 2, 2, 2, 1, 1, 0, 2,\n",
       "       1, 0, 2, 1, 2, 1, 2, 0, 1, 1, 0, 2, 2, 2, 2, 0, 2, 0, 0, 0, 0, 2,\n",
       "       1, 2, 1, 1, 0, 2, 2, 2, 2, 2, 2, 2, 1, 1, 1, 2, 2, 0, 2, 2, 2, 0,\n",
       "       2, 0, 1, 1, 2, 1, 2, 2, 2, 2, 0, 1, 0, 0, 0, 0, 2, 2, 2, 1, 1, 1,\n",
       "       0, 2, 0, 0, 1, 0, 2, 0, 1, 2, 2, 2, 1, 2, 1, 0, 1, 1, 1, 2, 2, 2,\n",
       "       2, 2, 2, 0, 0, 0, 2, 1, 1, 1, 1, 2, 1, 2, 2, 1, 2, 1, 0, 0, 2, 2,\n",
       "       2, 1, 1, 1, 2, 0, 0, 0, 0, 1, 0, 0, 2, 1, 1, 1, 0, 0, 0, 2, 0, 2,\n",
       "       2, 1, 1, 0, 2, 2, 2, 1, 2, 1, 0, 0, 0, 0, 0, 0, 2, 2, 1, 2, 0, 2,\n",
       "       1, 0, 1, 1, 1, 0, 2, 0, 2, 1, 0, 0, 0, 2, 0, 1, 2, 0, 1, 1, 0, 2,\n",
       "       1, 1, 1, 0, 2, 0, 0, 0, 2, 0, 1, 1, 2, 2, 2, 2, 0, 2, 0, 2, 1, 2,\n",
       "       2, 1, 1, 2, 0, 2, 2, 2, 1, 2, 1, 1, 0, 2, 1, 0, 1, 2, 0, 2, 2, 0,\n",
       "       1, 2, 0, 0, 2, 2, 0, 0, 2, 0, 1, 0, 2, 2, 0, 1, 2, 2, 0, 1, 2, 2,\n",
       "       0, 2, 1, 0, 1, 1, 1, 0, 2, 0, 1, 1, 1, 2, 0, 1, 1, 2, 2, 1, 1, 1,\n",
       "       0, 0, 2, 1, 0, 1, 1, 2, 0, 1, 0, 2, 2, 1, 1, 0, 2, 1, 2, 1, 0, 0,\n",
       "       0, 1, 2, 0, 2, 2, 0, 2, 0, 0, 0, 0, 1, 2, 2, 1, 2, 2, 1, 1, 0, 2,\n",
       "       1, 1, 0, 2, 1, 2, 1, 0, 1, 2, 2, 2, 2, 0, 2, 1, 1, 0, 2, 0, 1, 1,\n",
       "       0, 0, 1, 2, 0, 2, 0, 0, 0, 0, 0, 1, 1, 1, 2, 1, 1, 1, 1, 2, 2, 1,\n",
       "       1, 1, 2, 0, 1, 1, 1, 2, 1, 0, 2, 2, 2, 0, 2, 0, 0, 0, 2, 2, 1, 0,\n",
       "       1, 2, 1, 2, 1, 1, 2, 1, 2, 0, 0, 1, 0, 1, 2, 1, 1, 2, 2, 1, 2, 0,\n",
       "       1, 2, 0, 2, 0, 2, 1, 2, 2, 1, 1, 0, 1, 0, 1, 0, 0, 1, 2, 1, 1, 1,\n",
       "       1, 1, 2, 1, 0, 1, 0, 0, 0, 2, 0, 2, 0, 0, 2, 1, 1, 2, 1, 0, 1, 0,\n",
       "       0, 1, 1, 1, 0, 2, 1, 2, 0, 0, 1, 0, 2, 1, 2, 2, 0, 2, 1, 2, 2, 0,\n",
       "       0, 2, 2, 2, 1, 2, 1, 2, 0, 1, 0, 2, 2, 2, 2, 0, 1, 2, 2, 1, 2, 1,\n",
       "       2, 0, 1, 1, 0, 0, 1, 1, 1, 2, 0, 2, 1, 0, 0, 0, 2, 2, 2, 2, 2, 1,\n",
       "       1, 2, 2, 1, 2, 1, 0, 1, 2, 0, 1, 1, 1, 1, 1, 0, 0, 1, 0, 2, 0, 2,\n",
       "       0, 0, 0, 2, 0, 0, 2, 2, 1, 0, 0, 2, 0, 2, 0, 0, 1, 1, 2, 2, 1, 1,\n",
       "       1, 2, 2, 0, 0, 2, 2, 1, 2, 0, 0, 1, 1, 2, 0, 0, 2, 0, 1, 2, 1, 0,\n",
       "       1, 0, 1, 0, 2, 2, 0, 2, 0, 2, 1, 0, 2, 1, 2, 1, 1, 2, 0, 2, 0, 1,\n",
       "       2, 2, 0, 1, 0, 1, 1, 2, 1, 1, 1, 2, 1, 0, 2, 1, 1, 2, 0, 1, 1, 0,\n",
       "       0, 0, 1, 2, 2, 0, 1, 2, 2, 0, 2, 1, 0, 0, 1, 2, 0, 1, 2, 2, 1, 2,\n",
       "       0, 1, 0, 2, 0, 0, 2, 1, 1, 0, 2, 2, 0, 0, 0, 1, 0, 0, 0, 2, 0, 1,\n",
       "       0, 1, 0, 1, 2, 2, 0, 0, 1, 0, 0, 0, 0, 0, 1, 1, 2, 0, 1, 0, 0, 0,\n",
       "       0, 0, 0, 1, 1, 2, 2, 2, 1, 1, 0, 1, 0, 0, 2, 0, 2, 0, 2, 2, 0, 0,\n",
       "       1, 2, 1, 1, 0, 1, 1, 1, 0, 0, 1, 0, 1, 1, 2, 1, 0, 1, 1, 2, 2, 1,\n",
       "       0, 0, 0, 1, 0, 0, 2, 2, 0, 0, 0, 0, 0, 1, 0, 2, 1, 2, 1, 2, 0, 0,\n",
       "       0, 0, 2, 1, 0, 2, 1, 0, 2, 0, 2, 2, 1, 1, 1, 1, 1, 1, 1, 1, 2, 0,\n",
       "       1, 2, 0, 0, 0, 1, 1, 1, 0, 0, 0, 0, 1, 0, 1, 2, 0, 0, 1, 1, 2, 2,\n",
       "       1, 1, 1, 1, 2, 0, 1, 2, 1, 0, 1, 2, 0, 0, 1, 0, 2, 1, 1, 2, 1, 0,\n",
       "       1, 0, 1, 2, 0, 2, 1, 1, 1, 1])"
      ]
     },
     "execution_count": 4,
     "metadata": {},
     "output_type": "execute_result"
    }
   ],
   "source": [
    "y"
   ]
  },
  {
   "cell_type": "code",
   "execution_count": 5,
   "id": "ad3354db",
   "metadata": {},
   "outputs": [],
   "source": [
    "from sklearn.model_selection import train_test_split\n",
    "X_train, X_test, y_train, y_test = train_test_split(X, y, test_size=0.3, random_state=42)"
   ]
  },
  {
   "cell_type": "code",
   "execution_count": 7,
   "id": "771a34e8",
   "metadata": {},
   "outputs": [
    {
     "name": "stderr",
     "output_type": "stream",
     "text": [
      "c:\\Users\\Vinit Solanki\\OneDrive\\Documents\\ML&DS\\myenv\\Lib\\site-packages\\sklearn\\linear_model\\_logistic.py:1256: FutureWarning: 'multi_class' was deprecated in version 1.5 and will be removed in 1.7. Use OneVsRestClassifier(LogisticRegression(..)) instead. Leave it to its default value to avoid this warning.\n",
      "  warnings.warn(\n"
     ]
    }
   ],
   "source": [
    "from sklearn.linear_model import LogisticRegression\n",
    "logistic = LogisticRegression(multi_class='ovr')\n",
    "logistic.fit(X_train, y_train)\n",
    "y_pred = logistic.predict(X_test)"
   ]
  },
  {
   "cell_type": "code",
   "execution_count": 8,
   "id": "5e48bca1",
   "metadata": {},
   "outputs": [
    {
     "name": "stdout",
     "output_type": "stream",
     "text": [
      "Score: 0.68\n",
      "              precision    recall  f1-score   support\n",
      "\n",
      "           0       0.70      0.77      0.73       103\n",
      "           1       0.58      0.40      0.47        96\n",
      "           2       0.71      0.86      0.78       101\n",
      "\n",
      "    accuracy                           0.68       300\n",
      "   macro avg       0.67      0.67      0.66       300\n",
      "weighted avg       0.67      0.68      0.66       300\n",
      "\n",
      "[[79 16  8]\n",
      " [31 38 27]\n",
      " [ 3 11 87]]\n"
     ]
    }
   ],
   "source": [
    "from sklearn.metrics import accuracy_score, classification_report, confusion_matrix\n",
    "\n",
    "score = accuracy_score(y_test, y_pred)\n",
    "print(\"Score:\", score)\n",
    "print(classification_report(y_test, y_pred))\n",
    "print(confusion_matrix(y_test, y_pred))"
   ]
  },
  {
   "cell_type": "code",
   "execution_count": null,
   "id": "0021ebbf",
   "metadata": {},
   "outputs": [],
   "source": []
  }
 ],
 "metadata": {
  "kernelspec": {
   "display_name": "myenv",
   "language": "python",
   "name": "python3"
  },
  "language_info": {
   "codemirror_mode": {
    "name": "ipython",
    "version": 3
   },
   "file_extension": ".py",
   "mimetype": "text/x-python",
   "name": "python",
   "nbconvert_exporter": "python",
   "pygments_lexer": "ipython3",
   "version": "3.12.3"
  }
 },
 "nbformat": 4,
 "nbformat_minor": 5
}
